{
 "cells": [
  {
   "cell_type": "code",
   "execution_count": 57,
   "metadata": {},
   "outputs": [],
   "source": [
    "import torch\n",
    "from transformers import BertTokenizer, BertForSequenceClassification"
   ]
  },
  {
   "cell_type": "code",
   "execution_count": 1,
   "metadata": {},
   "outputs": [],
   "source": [
    "paragraph_mid = '''\n",
    "In a chat conversation between Sarah, a leukemia patient, and Alex, her supportive friend, Sarah expresses her feelings of being overwhelmed by her leukemia diagnosis and the challenges of treatment. Alex offers understanding and reassurance, acknowledging the emotional rollercoaster Sarah is experiencing. Sarah finds solace in sharing her struggles with a supportive friend like Alex, highlighting the importance of companionship during difficult times. Alex's empathy and encouragement provide Sarah with a sense of comfort and strength as she navigates the uncertainties of living with leukemia. Their dialogue exemplifies the power of emotional support and solidarity in facing the emotional and physical challenges associated with leukemia, emphasizing the significance of having a supportive network during such trying times.'''\n",
    "# paragraph_mid = '''\n",
    "# Cancer is a complex and devastating disease that affects millions of people worldwide. It arises from the uncontrolled growth of abnormal cells in the body, which can spread to other parts and interfere with normal bodily functions. Treatment options for cancer include surgery, chemotherapy, radiation therapy, immunotherapy, and targeted therapy. Despite advancements in medical research, cancer remains a significant health challenge, highlighting the need for continued efforts in prevention, early detection, and treatment.'''"
   ]
  },
  {
   "cell_type": "code",
   "execution_count": 3,
   "metadata": {},
   "outputs": [
    {
     "name": "stdout",
     "output_type": "stream",
     "text": [
      "Summary:\n",
      "Cancer is a complex and devastating disease that affects millions of people worldwide. It arises from the uncontrolled growth of abnormal cells in the body, which can spread to other parts and interfere with normal bodily functions. Treatment options for cancer include surgery, chemotherapy, radiation therapy, immunotherapy, and targeted therapy.\n"
     ]
    }
   ],
   "source": [
    "\n",
    "\n",
    "\n",
    "prompt = \"give me only the medical details in the before paragraph and summarize it into 2 short points based on medical data only and ignore rest of the topics.\"\n",
    "from transformers import BartTokenizer, BartForConditionalGeneration\n",
    "\n",
    "def summarize_paragraph(prompt, paragraph):\n",
    "    tokenizer = BartTokenizer.from_pretrained(\"facebook/bart-large-cnn\")\n",
    "    model = BartForConditionalGeneration.from_pretrained(\"facebook/bart-large-cnn\")\n",
    "\n",
    "    input_text = prompt + \" \" + paragraph\n",
    "\n",
    "    inputs = tokenizer(input_text, return_tensors=\"pt\", max_length=1024, truncation=True, padding=\"max_length\")\n",
    "\n",
    "    summary_ids = model.generate(inputs.input_ids, max_length=150, num_beams=4, length_penalty=2.0, early_stopping=True)\n",
    "\n",
    "    summary = tokenizer.decode(summary_ids[0], skip_special_tokens=True)\n",
    "    return summary\n",
    "\n",
    "\n",
    "\n",
    "# Generate summary\n",
    "summary = summarize_paragraph(prompt, paragraph_mid)\n",
    "print(\"Summary:\")\n",
    "print(summary)\n",
    "\n",
    "\n",
    "\n",
    "\n",
    "\n",
    "\n"
   ]
  },
  {
   "cell_type": "code",
   "execution_count": null,
   "metadata": {},
   "outputs": [],
   "source": []
  }
 ],
 "metadata": {
  "kernelspec": {
   "display_name": "tensor",
   "language": "python",
   "name": "python3"
  },
  "language_info": {
   "codemirror_mode": {
    "name": "ipython",
    "version": 3
   },
   "file_extension": ".py",
   "mimetype": "text/x-python",
   "name": "python",
   "nbconvert_exporter": "python",
   "pygments_lexer": "ipython3",
   "version": "3.9.12"
  }
 },
 "nbformat": 4,
 "nbformat_minor": 2
}
